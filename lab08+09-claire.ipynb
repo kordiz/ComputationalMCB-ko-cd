{
 "cells": [
  {
   "cell_type": "markdown",
   "metadata": {},
   "source": [
    " In the terminal, ran the following command to assemble bacterial genome. Output file includes contigs and scaffolds.\n",
    " \n",
    "     spades.py -o lab8-claire/output --pacbio /data/lab8/pacbio_reads.fastq -1 /data/lab8/illumina_reads_R1.fastq -2 /data/lab8/illumina_reads_R2.fastq -t 1"
   ]
  },
  {
   "cell_type": "markdown",
   "metadata": {},
   "source": [
    "Using the assembly-stats program in terminal, calculated statistics on both contigs and scaffolds file:\n",
    "\n",
    "    assembly-stats contigs.fasta scaffolds.fasta\n",
    "\n",
    "Total length of all contigs: 6678635\n",
    "\n",
    "Total length of all scaffolds: 6678655 \n",
    "\n",
    "Number of contigs: 176\n",
    "\n",
    "Number of scaffolds: 174\n",
    "\n",
    "N50 contigs: 234690\n",
    "\n",
    "N50 scaffolds: 234690"
   ]
  },
  {
   "cell_type": "markdown",
   "metadata": {},
   "source": [
    "Why is N50 is useful statistic to calculate? Why not just list the mean or median contig length?\n",
    "\n",
    "    N50 is the minimum contig/scaffold length to cover 50% of the genome, which if different from the mean or median length in that it relates back to the genome we're studying, rather than just the length of what the program was able to assemble. N50 helps us understand the power of the assembly in the context of the genome.\n",
    "\n",
    "In your assembly, are scaffolds longer than contigs, or are scaffolds approximately equal to contigs?\n",
    "    \n",
    "    Scaffolds are approximately equal to contigs in average length (scaffolds are about 400bp larger, but thats a pretty insignificant difference)."
   ]
  },
  {
   "cell_type": "markdown",
   "metadata": {},
   "source": [
    "Extra Credit:The number of times a contig in your assembly was covered by the reads used to assemble it (“coverage”) is listed at the end of the contig name in contigs.fasta. Extract the coverage from each FASTA header and plot a histogram of coverage for all contigs in your assembly."
   ]
  },
  {
   "cell_type": "code",
   "execution_count": 4,
   "metadata": {
    "collapsed": true
   },
   "outputs": [
    {
     "name": "stdout",
     "output_type": "stream",
     "text": [
      "first plot = showing outlier values at coverage = 150 and 1536.0\n",
      "second plot = zoomed in on majority of data\n"
     ]
    },
    {
     "data": {
      "text/plain": [
       "Text(0, 0.5, 'frequency')"
      ]
     },
     "execution_count": 4,
     "metadata": {},
     "output_type": "execute_result"
    },
    {
     "data": {
      "image/png": "[encoded data removed]",
      "text/plain": [
       "<Figure size 1440x576 with 1 Axes>"
      ]
     },
     "metadata": {
      "needs_background": "light"
     },
     "output_type": "display_data"
    },
    {
     "data": {
      "image/png": "[encoded data removed]",
      "text/plain": [
       "<Figure size 1440x576 with 1 Axes>"
      ]
     },
     "metadata": {
      "needs_background": "light"
     },
     "output_type": "display_data"
    }
   ],
   "source": [
    "from Bio import SeqIO\n",
    "import matplotlib.pyplot as plt\n",
    "import numpy as np\n",
    "\n",
    "cov = np.array([])\n",
    "for record in SeqIO.parse(\"output/contigs.fasta\", \"fasta\"):\n",
    "    cov = np.append(cov, float(record.id.split('cov_')[1]))\n",
    "print('first plot = showing outlier values at coverage = 150 and '  + str(cov.max()))\n",
    "plt.figure(figsize=(20,8))\n",
    "plt.hist(cov, bins=np.arange(1600))\n",
    "plt.xlabel('coverage')\n",
    "plt.ylabel('frequency')\n",
    "\n",
    "print('second plot = zoomed in on majority of data')\n",
    "plt.figure(figsize=(20,8))\n",
    "plt.hist(cov, bins=np.arange(60))\n",
    "plt.xlabel('coverage')\n",
    "plt.ylabel('frequency')\n"
   ]
  },
  {
   "cell_type": "markdown",
   "metadata": {},
   "source": [
    "Is coverage uniformly distributed? Does it look Gaussian? Is it bimodalor trimodal?\n",
    "\n",
    "    Coverage is not uniformly distributed or normally distributed. Coverage is skewed right, and the majority of the data are bimodal and between 0 and 20.\n",
    "\n",
    "What explains the presence of contigs with coverage an integer multiple of the mean coverage?\n",
    "\n",
    "    These contigs were probably duplicates of other contigs, and the integer is the number of duplicates."
   ]
  },
  {
   "cell_type": "markdown",
   "metadata": {},
   "source": [
    "Locating rRNA genes via terminal:\n",
    "    \n",
    "    rna_hmm3.py -i contigs.fasta -o output.gff\n",
    "    \n",
    "Manually deleted all lines in output.gff that were not 16S."
   ]
  },
  {
   "cell_type": "markdown",
   "metadata": {},
   "source": [
    "Pulled nucleotide sequence for 16S rRNA genes via terminal, saved output as 16S.fasta:\n",
    "\n",
    "    bedtools getfasta -fi contigs.fasta -bed output.gff"
   ]
  },
  {
   "cell_type": "markdown",
   "metadata": {},
   "source": [
    "Ran 16S.fasta through SeqMatch (http://rdp.cme.msu.edu/seqmatch/seqmatch_intro.jsp):\n",
    "\n",
    "Genus level identification: Pseudomonas\n",
    "\n",
    "Each of the 6 16S RNA nucleotide sequences came up as a match for the genus Pseudomonas, so I am confident that this is the correct genus. There was no species output."
   ]
  },
  {
   "attachments": {},
   "cell_type": "markdown",
   "metadata": {},
   "source": [
    "## BASys genome annotation data\n",
    "\n",
    "<img src=\"psuedomonas%20genome%20map.PNG\">  \n",
    "The above is the **BAsys genome annotation map** for our supplied genome. The following is a commentary on the summary statistics provided:  \n",
    "<img src=\"AA_acid_length.PNG\">\n",
    "This image shows that the modal protein length is around 200 AAs, and that the median size is likely closer to 300.   \n",
    "<img src=\"prot_location.PNG\">\n",
    "This image shows the majority of the proteins produced are localized to (in descending order of frequency), the cytoplasm, the membrane, the cell inner membrane  \n",
    "<img src=\"prot_func.PNG\">\n",
    "This image shows the functions of the listed proteins. It appears that 40% of the genes are of unknown function, it appears that the next highest category is transcription (8.1% of genome), then energy production and conversion (7.2%).   "
   ]
  },
  {
   "attachments": {},
   "cell_type": "markdown",
   "metadata": {},
   "source": [
    "## RAST Genome Annotation Data\n",
    "\n",
    "<img src=\"RASTannotate.PNG\">\n"
   ]
  },
  {
   "cell_type": "markdown",
   "metadata": {},
   "source": [
    "## Research and Write-up\n",
    "\n",
    "Claire Dubin and Anagh Sinha  \n",
    "  \n",
    "  \n",
    "Siderophores are a class of small molecules that are high-affinity iron-chelating compounds. They are secreted by our genus Pseudomonas as well as other microorganisms such as bacteria and fungi. Their primary function is the transport of ion across the cell membrane, and their affinity to Ferric Iron (Fe3+) is among the highest of any known small molecules.\n",
    "  \n",
    "The Pseudomonas genome, as annotated by RAST, contains 20 genes responsible for iron uptake and metabolism. Some of the genes are genes for Iron acquisition in Streptococcus. The presence of Streptococcus iron acquisition genes in addition to Pseudomonas’ own iron acquisition genes appears to be a competitive adaptation in members of genus Pseudomonas . It would allow them to deprive members of Streptococcus from sustaining biological processes relying on Iron. \n",
    "  \n",
    "So why do members of Pseudomonas encode so many of their own siderophores? And why do they also encode iron acquisition genes from members of Streptococcus? The answers to both these questions become clear when we consider this information in the context of multipathogenic infection of mammals by Pseudomonas and Streptococcus. There is extensive literature on the use of iron deprivation as a mammalian defense tactic against microbes [1]. The role of Pseudomonas as a bacteria that can cause infection in immunocompromised individuals is also well documented. To successfully invade the mammalian host, Pseudomonas needs to acquire substantial Iron to quickly expand its population [2]. However, iron uptake is dramatically increased by the host machinery when under threat of invading pathogens. Thus, Pseudomonas creates siderophores that, as small molecules, quickly bypass the cell membrane and ‘snatch’ host iron using their superior affinity. In addition, as it is specialised for invasion of immunocompromised individuals, Pseudomonas is specialized to compete against other opportunistic organisms like members of genus Streptococcus, starving other microbes of iron as well [3]. Additionally, because Pseudomonas is able to mutate rapidly, communities of Pseudomonas can quickly specialize into the complementary roles of siderophore-producing and non siderophore-producing bacteria [4]. This allows the non-siderophore bacteria to specialize by saving energy, increasing the potential to outcompete other pathogens in multipathogenic infection and to further cripple the host defense machinery. \n",
    "  \n",
    "Sources:\n",
    "1. Ganz, Thomas. “Regulation of Iron Acquisition and Iron Distribution in Mammals.” NeuroImage, Academic Press, 12 May 2006, www.sciencedirect.com/science/article/pii/S0167488906001029.  \n",
    "2. Meyer JM, Neely A, Stintzi A, Georges C, Holder IA. 1996. Pyoverdine is essential for virulence of Pseudomonas aeruginosa. Infect Immun 64:518–523 https://iai.asm.org/content/64/2/518?ijkey=4ee2eb87ad96e8998784dc60d85ffeea1b5f3366&keytype2=tf_ipsecsha\n",
    "3. Nguyen, Angela T., et al. “Iron Depletion Enhances Production of Antimicrobials by Pseudomonas Aeruginosa.” Journal of Bacteriology, American Society for Microbiology Journals, 15 July 2015, jb.asm.org/content/197/14/2265#ref-11.https://jb.asm.org/content/197/14/2265#ref-11\n",
    "4. Harrison, Freya; Browning, Lucy E.; Vos, Michiel; Buckling, Angus (2006-01-01). \"Cooperation and virulence in acute Pseudomonas aeruginosainfections\". BMC Biology. 4: 21. doi:10.1186/1741-7007-4-21. https://bmcbiol.biomedcentral.com/articles/10.1186/1741-7007-4-21"
   ]
  },
  {
   "cell_type": "code",
   "execution_count": null,
   "metadata": {},
   "outputs": [],
   "source": []
  }
 ],
 "metadata": {
  "kernelspec": {
   "display_name": "Python 3",
   "language": "python",
   "name": "python3"
  },
  "language_info": {
   "codemirror_mode": {
    "name": "ipython",
    "version": 3
   },
   "file_extension": ".py",
   "mimetype": "text/x-python",
   "name": "python",
   "nbconvert_exporter": "python",
   "pygments_lexer": "ipython3",
   "version": "3.6.6"
  }
 },
 "nbformat": 4,
 "nbformat_minor": 2
}
