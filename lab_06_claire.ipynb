{
 "cells": [
  {
   "cell_type": "markdown",
   "metadata": {},
   "source": [
    "Aligning reads to human genome using Bowtie:\n",
    "\n",
    "\n",
    "Ran in terminal, using:\n",
    "\n",
    "data/hg19/hg19 (human genome) as database\n",
    "\n",
    "data/lab6/illumina_reads.fastq as reads\n",
    "\n",
    "unaligned.fastq will contain genes from long-diverged Shewanella oneidensis"
   ]
  },
  {
   "cell_type": "markdown",
   "metadata": {},
   "source": [
    "OUTPUT:\n",
    "    \n",
    "    \n",
    "    1124714 reads; of these:\n",
    "    1124714 (100.00%) were unpaired; of these:\n",
    "    1028379 (91.43%) aligned 0 times\n",
    "    87274 (7.76%) aligned exactly 1 time\n",
    "    9061 (0.81%) aligned >1 times\n",
    "    8.57% overall alignment rate"
   ]
  },
  {
   "cell_type": "markdown",
   "metadata": {},
   "source": [
    "About 8.57% of sequencing library came from human source (contamination)"
   ]
  },
  {
   "cell_type": "markdown",
   "metadata": {},
   "source": [
    "Aligning reads to Shewanella oneidensis using Bowtie:\n",
    "\n",
    "\n",
    "Ran in terminal, using:\n",
    "\n",
    "/data/lab6/shewanella_oneidensis_mr-1 (Shewanella oneidensis genome) as database\n",
    "\n",
    "cd_unaligned.fastq (from previous step) as reads\n",
    "\n",
    "unaligned.fastq will contain genes from human (contamination)"
   ]
  },
  {
   "cell_type": "markdown",
   "metadata": {},
   "source": [
    "OUTPUT: \n",
    "\n",
    "     1028379 reads; of these:\n",
    "     1028379 (100.00%) were unpaired; of these:\n",
    "     299560 (29.13%) aligned 0 times\n",
    "     687571 (66.86%) aligned exactly 1 time\n",
    "     41248 (4.01%) aligned >1 times\n",
    "     70.87% overall alignment rate"
   ]
  },
  {
   "cell_type": "markdown",
   "metadata": {},
   "source": [
    "Output using same settings as above, except --very-sensitive:\n",
    "\n",
    "    1028379 reads; of these:\n",
    "    1028379 (100.00%) were unpaired; of these:\n",
    "    298112 (28.99%) aligned 0 times\n",
    "    688180 (66.92%) aligned exactly 1 time\n",
    "    42087 (4.09%) aligned >1 times\n",
    "    71.01% overall alignment rate\n",
    "    \n",
    "Alignment rate increased very slightly!"
   ]
  },
  {
   "cell_type": "markdown",
   "metadata": {},
   "source": [
    "Converted SAM output file (containing library aligned to Shewanella oneidensis genome) to BAM using terminal command:\n",
    "     \n",
    "     samtools view cd2_output.sam > cd_output.bam\n",
    "\n",
    "Then sorted using:\n",
    "\n",
    "    samtools sort cd_output.bam > cd_output.sorted.bam\n",
    "\n",
    "Then indexed using:\n",
    "\n",
    "    samtools index cd_output.sorted.bam\n",
    "    \n",
    "And used “depth” to generate a file containing the depth of coverage for every position in the reference genome:\n",
    "\n",
    "    samtools depth –a cd_output.sorted.bam > pileup0.tab"
   ]
  },
  {
   "cell_type": "code",
   "execution_count": 1,
   "metadata": {},
   "outputs": [],
   "source": [
    "import csv\n",
    "import matplotlib.pyplot as plt\n",
    "import numpy as np"
   ]
  },
  {
   "cell_type": "code",
   "execution_count": 2,
   "metadata": {},
   "outputs": [],
   "source": [
    "position = []\n",
    "depth = []\n",
    "with open('pileup0.tab') as f:\n",
    "    r = csv.reader(f, delimiter='\\t')\n",
    "    for row in r:\n",
    "        position.append(int(row[1]))\n",
    "        depth.append(int(row[2]))\n",
    "        "
   ]
  },
  {
   "cell_type": "code",
   "execution_count": 3,
   "metadata": {},
   "outputs": [
    {
     "name": "stdout",
     "output_type": "stream",
     "text": [
      "281 1 37.03933156165406\n"
     ]
    }
   ],
   "source": [
    "max_cov = max(depth)\n",
    "min_cov = min(depth)\n",
    "avg_cov = np.mean(depth)\n",
    "\n",
    "print(max_cov, min_cov, avg_cov)"
   ]
  },
  {
   "cell_type": "markdown",
   "metadata": {},
   "source": [
    "Max coverage = 281, min coverage = 1, average coverage = 37"
   ]
  },
  {
   "cell_type": "markdown",
   "metadata": {},
   "source": [
    "Plotting coverage vs. position:"
   ]
  },
  {
   "cell_type": "code",
   "execution_count": 4,
   "metadata": {},
   "outputs": [
    {
     "data": {
      "image/png": "[encoded data removed]",
      "text/plain": [
       "<Figure size 432x288 with 1 Axes>"
      ]
     },
     "metadata": {
      "needs_background": "light"
     },
     "output_type": "display_data"
    }
   ],
   "source": [
    "plt.scatter(position, depth, s=(1 ** 2))\n",
    "plt.xlabel('Position in Genome')\n",
    "plt.ylabel('Depth of Coverage')\n",
    "plt.show()"
   ]
  },
  {
   "cell_type": "code",
   "execution_count": 5,
   "metadata": {},
   "outputs": [
    {
     "data": {
      "text/plain": [
       "Text(0, 0.5, 'Count')"
      ]
     },
     "execution_count": 5,
     "metadata": {},
     "output_type": "execute_result"
    },
    {
     "data": {
      "image/png": "[encoded data removed]",
      "text/plain": [
       "<Figure size 432x288 with 1 Axes>"
      ]
     },
     "metadata": {
      "needs_background": "light"
     },
     "output_type": "display_data"
    }
   ],
   "source": [
    "plt.hist(depth, bins=np.arange(1,200, 5))\n",
    "plt.xlabel('Depth of Coverage')\n",
    "plt.ylabel('Count')"
   ]
  },
  {
   "cell_type": "markdown",
   "metadata": {},
   "source": [
    "Extra Credit 1:Generate the same two plots using the SAM file you produced aligning thereadstothe humanreferencegenome.Instead of using “Position in Genome”(the plot onthe left in red, above), plot the average depth (total depth / length of chromosome) for each human chromosome:chr1-22, X, and Y.What biological sexis Jamie?"
   ]
  },
  {
   "cell_type": "markdown",
   "metadata": {},
   "source": [
    "Converted SAM output file (containing library aligned to Shewanella oneidensis genome) to BAM using terminal command:\n",
    "     \n",
    "     samtools view –b cd_output.sam > cd2_output.bam\n",
    "\n",
    "Then sorted using:\n",
    "\n",
    "    samtools sort cd2_output.bam > cd2_output.sorted.bam\n",
    "\n",
    "Then indexed using:\n",
    "\n",
    "    samtools index cd2_output.sorted.bam\n",
    "    \n",
    "And used “depth” to generate a file containing the depth of coverage for every position in the reference genome:\n",
    "\n",
    "    samtools depth –a cd2_output.sorted.bam > cd_pileup.tab"
   ]
  },
  {
   "cell_type": "code",
   "execution_count": 6,
   "metadata": {},
   "outputs": [
    {
     "name": "stdout",
     "output_type": "stream",
     "text": [
      "new\n",
      "new\n",
      "new\n",
      "new\n",
      "new\n",
      "new\n",
      "new\n",
      "new\n",
      "new\n",
      "new\n",
      "new\n",
      "new\n",
      "new\n",
      "new\n",
      "new\n",
      "new\n",
      "new\n",
      "new\n",
      "new\n",
      "new\n",
      "new\n",
      "new\n",
      "new\n",
      "new\n",
      "new\n",
      "new\n",
      "new\n",
      "new\n",
      "new\n",
      "new\n",
      "new\n",
      "new\n",
      "new\n",
      "new\n",
      "new\n",
      "new\n",
      "new\n",
      "new\n",
      "new\n",
      "new\n",
      "new\n",
      "new\n",
      "new\n",
      "new\n"
     ]
    }
   ],
   "source": [
    "chromosome_dict = {}\n",
    "depth = []\n",
    "with open('cd_pileup.tab') as f:\n",
    "    r = csv.reader(f, delimiter='\\t')\n",
    "    for row in r:\n",
    "        if row[0] in chromosome_dict:\n",
    "            chromosome_dict[row[0]] += [row[2]]\n",
    "        else:\n",
    "            chromosome_dict[row[0]] = [row[2]]\n",
    "        "
   ]
  },
  {
   "cell_type": "code",
   "execution_count": 15,
   "metadata": {},
   "outputs": [
    {
     "name": "stdout",
     "output_type": "stream",
     "text": [
      "chr1\n",
      "0.009119010379516767\n",
      "chr2\n",
      "0.009903796092434827\n",
      "chr3\n",
      "0.009936162282222272\n",
      "chr4\n",
      "0.00991051332798854\n",
      "chr5\n",
      "0.009928095617804712\n",
      "chr6\n",
      "0.009895703690429553\n",
      "chr7\n",
      "0.009852596285793856\n",
      "chr8\n",
      "0.009859157874193974\n",
      "chr9\n",
      "0.00854519992506945\n",
      "chr10\n",
      "0.009767783017295188\n",
      "chr11\n",
      "0.009821725938028058\n",
      "chr12\n",
      "0.00983894176470195\n",
      "chr13\n",
      "0.008399505294257583\n",
      "chr14\n",
      "0.008298740730514542\n",
      "chr15\n",
      "0.008051348800570268\n",
      "chr16\n",
      "0.008822092624169976\n",
      "chr17\n",
      "0.00969688975494983\n",
      "chr18\n",
      "0.009668309518286301\n",
      "chr19\n",
      "0.009483927704286745\n",
      "chr20\n",
      "0.009507862846669095\n",
      "chr21\n",
      "0.007291871299532234\n",
      "chr22\n",
      "0.006868238589134542\n",
      "chrX\n",
      "0.009715041924238568\n",
      "chrY\n",
      "0.00411780892527156\n",
      "chr1_gl000191_random\n",
      "0.005637349318350512\n",
      "chr1_gl000192_random\n",
      "0.0016438476262840276\n",
      "chr4_gl000193_random\n",
      "0.0009958427516874003\n",
      "chr4_gl000194_random\n",
      "0.001566833273271391\n",
      "chr9_gl000199_random\n",
      "0.002754983105124975\n",
      "chr9_gl000200_random\n",
      "0.003207955730210923\n",
      "chr9_gl000201_random\n",
      "0.016598428682084762\n",
      "chr11_gl000202_random\n",
      "0.007480737101962447\n",
      "chrUn_gl000213\n",
      "0.0018266063480659282\n",
      "chrUn_gl000214\n",
      "0.001321541120260242\n",
      "chrUn_gl000215\n",
      "0.005216030600712858\n",
      "chrUn_gl000217\n",
      "0.0034853528048376698\n",
      "chrUn_gl000222\n",
      "0.004318718191596962\n",
      "chrUn_gl000223\n",
      "0.004987392978858995\n",
      "chrUn_gl000226\n",
      "0.019989339019189766\n",
      "chrUn_gl000227\n",
      "0.004673843613192703\n",
      "chrUn_gl000228\n",
      "0.006954770755885998\n",
      "chrUn_gl000233\n",
      "0.00452754620056159\n",
      "chrUn_gl000245\n",
      "0.008185315543914218\n",
      "chrUn_gl000247\n",
      "0.008236779968151118\n"
     ]
    }
   ],
   "source": [
    "depth_dict = {}\n",
    "for chromosome in chromosome_dict:\n",
    "    print(chromosome)\n",
    "    total = 0\n",
    "    for item in chromosome_dict[chromosome]:\n",
    "        total += int(item)\n",
    "    avg_depth = total/len(chromosome_dict[chromosome])\n",
    "    depth_dict[chromosome] = avg_depth\n",
    "    print(avg_depth)"
   ]
  },
  {
   "cell_type": "code",
   "execution_count": 21,
   "metadata": {},
   "outputs": [
    {
     "data": {
      "image/png": "[encoded data removed]",
      "text/plain": [
       "<Figure size 432x288 with 1 Axes>"
      ]
     },
     "metadata": {
      "needs_background": "light"
     },
     "output_type": "display_data"
    }
   ],
   "source": [
    "keys = list(depth_dict.keys())\n",
    "vals = list(depth_dict.values())\n",
    "\n",
    "plt.scatter(keys[0:24], vals[0:24], s=(1 ** 2))\n",
    "plt.xlabel('Position in Genome')\n",
    "plt.ylabel('Depth of Coverage')\n",
    "plt.xticks(rotation=90)\n",
    "plt.show()"
   ]
  },
  {
   "cell_type": "markdown",
   "metadata": {},
   "source": [
    "Jaime is a girl! She has very few reads mapped to the Y chromosome, which may be erroneous."
   ]
  },
  {
   "cell_type": "code",
   "execution_count": null,
   "metadata": {},
   "outputs": [],
   "source": []
  }
 ],
 "metadata": {
  "kernelspec": {
   "display_name": "Python 3",
   "language": "python",
   "name": "python3"
  },
  "language_info": {
   "codemirror_mode": {
    "name": "ipython",
    "version": 3
   },
   "file_extension": ".py",
   "mimetype": "text/x-python",
   "name": "python",
   "nbconvert_exporter": "python",
   "pygments_lexer": "ipython3",
   "version": "3.6.6"
  }
 },
 "nbformat": 4,
 "nbformat_minor": 2
}
