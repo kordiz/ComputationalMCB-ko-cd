{
 "cells": [
  {
   "cell_type": "markdown",
   "metadata": {},
   "source": [
    "Contigs assembled via SPAdes in terminal using --meta.\n",
    "\n"
   ]
  },
  {
   "cell_type": "markdown",
   "metadata": {},
   "source": [
    "Plot a histogram of contig lengths from your metagenome assembly in iPython, along with the N50:"
   ]
  },
  {
   "cell_type": "code",
   "execution_count": null,
   "metadata": {},
   "outputs": [],
   "source": []
  },
  {
   "cell_type": "markdown",
   "metadata": {},
   "source": [
    "Summarize the results of One Codex, giving us an idea of what kind of microbes were living in your soil sample:"
   ]
  },
  {
   "cell_type": "markdown",
   "metadata": {},
   "source": [
    "One Codex showed that by far, most of the organisms living in the sample are bacteria. Groups with higher sampling frequency were often only identified to the phylum level, and the most frequently sampled group were unclassified bacteria. Acidobacteria (a phylum) was one of the most frequently seen phylums, and many acidobacteria are acidophillic, so this soil may have a low pH. The most frequently sampled bacteria that was identified to genus is Streptomyces. In total, there were 6032 unique identifications."
   ]
  },
  {
   "cell_type": "code",
   "execution_count": null,
   "metadata": {},
   "outputs": [],
   "source": []
  }
 ],
 "metadata": {
  "kernelspec": {
   "display_name": "Python 3",
   "language": "python",
   "name": "python3"
  },
  "language_info": {
   "codemirror_mode": {
    "name": "ipython",
    "version": 3
   },
   "file_extension": ".py",
   "mimetype": "text/x-python",
   "name": "python",
   "nbconvert_exporter": "python",
   "pygments_lexer": "ipython3",
   "version": "3.6.6"
  }
 },
 "nbformat": 4,
 "nbformat_minor": 2
}
